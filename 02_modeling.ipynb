{
 "cells": [
  {
   "cell_type": "code",
   "execution_count": 1,
   "id": "fbf980bc-a0a4-4c7d-8911-268f0f8a72cc",
   "metadata": {},
   "outputs": [
    {
     "name": "stderr",
     "output_type": "stream",
     "text": [
      "C:\\Users\\talib\\churn-env\\Lib\\site-packages\\tqdm\\auto.py:21: TqdmWarning: IProgress not found. Please update jupyter and ipywidgets. See https://ipywidgets.readthedocs.io/en/stable/user_install.html\n",
      "  from .autonotebook import tqdm as notebook_tqdm\n"
     ]
    }
   ],
   "source": [
    "# Step 1: Libraries\n",
    "import pandas as pd\n",
    "import numpy as np\n",
    "from sklearn.model_selection import train_test_split, StratifiedKFold, RandomizedSearchCV\n",
    "from sklearn.pipeline import Pipeline\n",
    "from sklearn.compose import ColumnTransformer\n",
    "from sklearn.impute import SimpleImputer\n",
    "from sklearn.preprocessing import StandardScaler, OneHotEncoder\n",
    "from sklearn.linear_model import LogisticRegression\n",
    "from sklearn.ensemble import RandomForestClassifier\n",
    "from imblearn.over_sampling import SMOTE\n",
    "from imblearn.pipeline import Pipeline as ImbPipeline\n",
    "from sklearn.metrics import classification_report, roc_auc_score, confusion_matrix, f1_score\n",
    "import joblib\n",
    "import shap\n",
    "import matplotlib.pyplot as plt"
   ]
  },
  {
   "cell_type": "code",
   "execution_count": 2,
   "id": "0c95bfaa-9075-4d63-9b4c-124ce39d7178",
   "metadata": {},
   "outputs": [],
   "source": [
    "# Step 2: Load dataset\n",
    "df = pd.read_csv(\"C:/Users/talib/churn-project/data/Telco-Customer-Churn.csv\")"
   ]
  },
  {
   "cell_type": "code",
   "execution_count": 3,
   "id": "c4be6227-2f81-4aac-9a8a-b3e09281fb8d",
   "metadata": {},
   "outputs": [],
   "source": [
    "# Cleaning same as EDA\n",
    "df['TotalCharges'] = df['TotalCharges'].replace(' ', np.nan)\n",
    "df['TotalCharges'] = pd.to_numeric(df['TotalCharges'], errors='coerce')\n",
    "df = df.dropna(subset=['TotalCharges']).reset_index(drop=True)\n",
    "df = df.drop(columns=['customerID'])"
   ]
  },
  {
   "cell_type": "code",
   "execution_count": 4,
   "id": "e377c5a1-e116-46ef-85e8-e94ad5f1be37",
   "metadata": {},
   "outputs": [],
   "source": [
    "# Binary encode Yes/No columns\n",
    "binary_cols = ['Partner','Dependents','PhoneService','PaperlessBilling']\n",
    "for c in binary_cols:\n",
    "    df[c] = df[c].map({'Yes':1,'No':0})"
   ]
  },
  {
   "cell_type": "code",
   "execution_count": 5,
   "id": "904eccba-a4f9-4cb4-9755-fe8142a66118",
   "metadata": {},
   "outputs": [],
   "source": [
    "# Tenure groups\n",
    "df['tenure_group'] = pd.cut(df['tenure'], bins=[0,12,24,48,60,100],\n",
    "                            labels=['0-12','13-24','25-48','49-60','60+'])"
   ]
  },
  {
   "cell_type": "code",
   "execution_count": 6,
   "id": "68243dd2-9e42-4f23-8d08-2e98947d176f",
   "metadata": {},
   "outputs": [],
   "source": [
    "# Step 3: X and y\n",
    "X = df.drop(columns=['Churn'])\n",
    "y = df['Churn'].map({'Yes':1,'No':0})\n"
   ]
  },
  {
   "cell_type": "code",
   "execution_count": 7,
   "id": "5f31dfee-e6e9-4d96-9a09-168bf49e6bda",
   "metadata": {},
   "outputs": [],
   "source": [
    "# Train-test split (stratified)\n",
    "X_train, X_test, y_train, y_test = train_test_split(\n",
    "    X, y, test_size=0.2, stratify=y, random_state=42\n",
    ")"
   ]
  },
  {
   "cell_type": "code",
   "execution_count": 8,
   "id": "0de3bea1-c0c6-47b7-a391-1f39a4433e0b",
   "metadata": {},
   "outputs": [],
   "source": [
    "# Step 4: Identify columns\n",
    "numeric_features = X.select_dtypes(include=['int64','float64']).columns.tolist()\n",
    "categorical_features = X.select_dtypes(include=['object','category']).columns.tolist()"
   ]
  },
  {
   "cell_type": "code",
   "execution_count": 10,
   "id": "aead8ff8-b2fa-4036-9f7d-e91b86d9de9b",
   "metadata": {},
   "outputs": [],
   "source": [
    "# Preprocessing pipelines\n",
    "num_pipeline = Pipeline([\n",
    "    ('imputer', SimpleImputer(strategy='median')),\n",
    "    ('scaler', StandardScaler())\n",
    "])\n",
    "\n",
    "cat_pipeline = Pipeline([\n",
    "    ('imputer', SimpleImputer(strategy='most_frequent')),\n",
    "    ('onehot', OneHotEncoder(handle_unknown='ignore', sparse_output=False))\n",
    "])\n",
    "\n",
    "preprocessor = ColumnTransformer([\n",
    "    ('num', num_pipeline, numeric_features),\n",
    "    ('cat', cat_pipeline, categorical_features)\n",
    "])"
   ]
  },
  {
   "cell_type": "code",
   "execution_count": 11,
   "id": "f95a3b6c-b4f6-47a3-9e55-ca8b6f622837",
   "metadata": {},
   "outputs": [
    {
     "name": "stdout",
     "output_type": "stream",
     "text": [
      "Logistic Regression Performance:\n",
      "              precision    recall  f1-score   support\n",
      "\n",
      "           0       0.91      0.72      0.80      1033\n",
      "           1       0.51      0.79      0.62       374\n",
      "\n",
      "    accuracy                           0.74      1407\n",
      "   macro avg       0.71      0.76      0.71      1407\n",
      "weighted avg       0.80      0.74      0.75      1407\n",
      "\n",
      "ROC AUC: 0.8344743776239705\n"
     ]
    }
   ],
   "source": [
    "# Step 5: Baseline model - Logistic Regression\n",
    "pipe = ImbPipeline([\n",
    "    ('preprocessor', preprocessor),\n",
    "    ('smote', SMOTE(random_state=42)),\n",
    "    ('clf', LogisticRegression(max_iter=1000))\n",
    "])\n",
    "\n",
    "pipe.fit(X_train, y_train)\n",
    "y_pred = pipe.predict(X_test)\n",
    "y_prob = pipe.predict_proba(X_test)[:,1]\n",
    "\n",
    "print(\"Logistic Regression Performance:\")\n",
    "print(classification_report(y_test, y_pred))\n",
    "print('ROC AUC:', roc_auc_score(y_test, y_prob))"
   ]
  },
  {
   "cell_type": "code",
   "execution_count": 12,
   "id": "78c26d10-1e45-4de0-868f-fcb5cfd95314",
   "metadata": {},
   "outputs": [
    {
     "name": "stdout",
     "output_type": "stream",
     "text": [
      "Fitting 5 folds for each of 12 candidates, totalling 60 fits\n",
      "Best threshold by F1: 0.4\n",
      "              precision    recall  f1-score   support\n",
      "\n",
      "           0       0.91      0.73      0.81      1033\n",
      "           1       0.52      0.79      0.63       374\n",
      "\n",
      "    accuracy                           0.75      1407\n",
      "   macro avg       0.71      0.76      0.72      1407\n",
      "weighted avg       0.80      0.75      0.76      1407\n",
      "\n",
      "ROC AUC: 0.8280370759586064\n",
      "Confusion Matrix:\n",
      " [[759 274]\n",
      " [ 78 296]]\n"
     ]
    }
   ],
   "source": [
    "# Step 6: Stronger model - RandomForest with RandomizedSearchCV\n",
    "pipe.set_params(clf=RandomForestClassifier(random_state=42))\n",
    "param_dist = {\n",
    "    'clf__n_estimators':[100,200,500],\n",
    "    'clf__max_depth':[None,10,20,30],\n",
    "    'clf__min_samples_split':[2,5,10]\n",
    "}\n",
    "\n",
    "cv = StratifiedKFold(n_splits=5, shuffle=True, random_state=42)\n",
    "search = RandomizedSearchCV(pipe, param_dist, n_iter=12, scoring='f1', cv=cv, n_jobs=-1, verbose=1)\n",
    "search.fit(X_train, y_train)\n",
    "best = search.best_estimator_\n",
    "\n",
    "# Step 7: Evaluate\n",
    "y_prob = best.predict_proba(X_test)[:,1]\n",
    "thresholds = np.linspace(0.01,0.99,99)\n",
    "f1s = [f1_score(y_test,(y_prob>t).astype(int)) for t in thresholds]\n",
    "best_t = thresholds[np.argmax(f1s)]\n",
    "print(\"Best threshold by F1:\", best_t)\n",
    "\n",
    "y_pred_thresh = (y_prob>best_t).astype(int)\n",
    "print(classification_report(y_test, y_pred_thresh))\n",
    "print(\"ROC AUC:\", roc_auc_score(y_test, y_prob))\n",
    "print(\"Confusion Matrix:\\n\", confusion_matrix(y_test, y_pred_thresh))"
   ]
  },
  {
   "cell_type": "code",
   "execution_count": 13,
   "id": "20a705a2-6530-45b2-804f-0f6aeb8727d7",
   "metadata": {},
   "outputs": [
    {
     "name": "stdout",
     "output_type": "stream",
     "text": [
      "\n",
      "Top 15 Important Features:\n"
     ]
    },
    {
     "data": {
      "text/html": [
       "<div>\n",
       "<style scoped>\n",
       "    .dataframe tbody tr th:only-of-type {\n",
       "        vertical-align: middle;\n",
       "    }\n",
       "\n",
       "    .dataframe tbody tr th {\n",
       "        vertical-align: top;\n",
       "    }\n",
       "\n",
       "    .dataframe thead th {\n",
       "        text-align: right;\n",
       "    }\n",
       "</style>\n",
       "<table border=\"1\" class=\"dataframe\">\n",
       "  <thead>\n",
       "    <tr style=\"text-align: right;\">\n",
       "      <th></th>\n",
       "      <th>feature</th>\n",
       "      <th>importance</th>\n",
       "    </tr>\n",
       "  </thead>\n",
       "  <tbody>\n",
       "    <tr>\n",
       "      <th>34</th>\n",
       "      <td>Contract_Month-to-month</td>\n",
       "      <td>0.120593</td>\n",
       "    </tr>\n",
       "    <tr>\n",
       "      <th>39</th>\n",
       "      <td>PaymentMethod_Electronic check</td>\n",
       "      <td>0.080779</td>\n",
       "    </tr>\n",
       "    <tr>\n",
       "      <th>3</th>\n",
       "      <td>tenure</td>\n",
       "      <td>0.080450</td>\n",
       "    </tr>\n",
       "    <tr>\n",
       "      <th>16</th>\n",
       "      <td>OnlineSecurity_No</td>\n",
       "      <td>0.068510</td>\n",
       "    </tr>\n",
       "    <tr>\n",
       "      <th>25</th>\n",
       "      <td>TechSupport_No</td>\n",
       "      <td>0.055237</td>\n",
       "    </tr>\n",
       "    <tr>\n",
       "      <th>36</th>\n",
       "      <td>Contract_Two year</td>\n",
       "      <td>0.051631</td>\n",
       "    </tr>\n",
       "    <tr>\n",
       "      <th>7</th>\n",
       "      <td>TotalCharges</td>\n",
       "      <td>0.051144</td>\n",
       "    </tr>\n",
       "    <tr>\n",
       "      <th>6</th>\n",
       "      <td>MonthlyCharges</td>\n",
       "      <td>0.048380</td>\n",
       "    </tr>\n",
       "    <tr>\n",
       "      <th>41</th>\n",
       "      <td>tenure_group_0-12</td>\n",
       "      <td>0.040785</td>\n",
       "    </tr>\n",
       "    <tr>\n",
       "      <th>14</th>\n",
       "      <td>InternetService_Fiber optic</td>\n",
       "      <td>0.039731</td>\n",
       "    </tr>\n",
       "    <tr>\n",
       "      <th>35</th>\n",
       "      <td>Contract_One year</td>\n",
       "      <td>0.031098</td>\n",
       "    </tr>\n",
       "    <tr>\n",
       "      <th>18</th>\n",
       "      <td>OnlineSecurity_Yes</td>\n",
       "      <td>0.029977</td>\n",
       "    </tr>\n",
       "    <tr>\n",
       "      <th>19</th>\n",
       "      <td>OnlineBackup_No</td>\n",
       "      <td>0.027359</td>\n",
       "    </tr>\n",
       "    <tr>\n",
       "      <th>27</th>\n",
       "      <td>TechSupport_Yes</td>\n",
       "      <td>0.023493</td>\n",
       "    </tr>\n",
       "    <tr>\n",
       "      <th>22</th>\n",
       "      <td>DeviceProtection_No</td>\n",
       "      <td>0.022271</td>\n",
       "    </tr>\n",
       "  </tbody>\n",
       "</table>\n",
       "</div>"
      ],
      "text/plain": [
       "                           feature  importance\n",
       "34         Contract_Month-to-month    0.120593\n",
       "39  PaymentMethod_Electronic check    0.080779\n",
       "3                           tenure    0.080450\n",
       "16               OnlineSecurity_No    0.068510\n",
       "25                  TechSupport_No    0.055237\n",
       "36               Contract_Two year    0.051631\n",
       "7                     TotalCharges    0.051144\n",
       "6                   MonthlyCharges    0.048380\n",
       "41               tenure_group_0-12    0.040785\n",
       "14     InternetService_Fiber optic    0.039731\n",
       "35               Contract_One year    0.031098\n",
       "18              OnlineSecurity_Yes    0.029977\n",
       "19                 OnlineBackup_No    0.027359\n",
       "27                 TechSupport_Yes    0.023493\n",
       "22             DeviceProtection_No    0.022271"
      ]
     },
     "metadata": {},
     "output_type": "display_data"
    }
   ],
   "source": [
    "# Step 8: Feature Importance\n",
    "ohe = best.named_steps['preprocessor'].named_transformers_['cat'].named_steps['onehot']\n",
    "cat_ohe_names = list(ohe.get_feature_names_out(categorical_features))\n",
    "feature_names = numeric_features + cat_ohe_names\n",
    "\n",
    "importances = best.named_steps['clf'].feature_importances_\n",
    "imp_df = pd.DataFrame({'feature':feature_names,'importance':importances}).sort_values('importance', ascending=False)\n",
    "print(\"\\nTop 15 Important Features:\")\n",
    "display(imp_df.head(15))"
   ]
  },
  {
   "cell_type": "code",
   "execution_count": 14,
   "id": "22c08580-d4fe-42a2-8406-a1ee61a50935",
   "metadata": {},
   "outputs": [
    {
     "data": {
      "image/png": "[encoded data removed]",
      "text/plain": [
       "<Figure size 1150x660 with 2 Axes>"
      ]
     },
     "metadata": {},
     "output_type": "display_data"
    }
   ],
   "source": [
    "# Step 9: SHAP plots\n",
    "clf = best.named_steps['clf']\n",
    "X_test_trans = best.named_steps['preprocessor'].transform(X_test)\n",
    "explainer = shap.TreeExplainer(clf)\n",
    "shap_values = explainer.shap_values(X_test_trans)\n",
    "shap.summary_plot(shap_values, X_test_trans, feature_names=feature_names)"
   ]
  },
  {
   "cell_type": "code",
   "execution_count": 15,
   "id": "c38b16d4-06e1-4c8a-9c0e-bcbccf54deca",
   "metadata": {},
   "outputs": [
    {
     "data": {
      "text/plain": [
       "['../models/churn_pipeline_v1.joblib']"
      ]
     },
     "execution_count": 15,
     "metadata": {},
     "output_type": "execute_result"
    }
   ],
   "source": [
    "# Step 10: Save pipeline\n",
    "import os\n",
    "os.makedirs('../models', exist_ok=True)\n",
    "joblib.dump(best,'../models/churn_pipeline_v1.joblib')"
   ]
  },
  {
   "cell_type": "code",
   "execution_count": null,
   "id": "ebc93532-31c1-4032-8ab2-65adae960e58",
   "metadata": {},
   "outputs": [],
   "source": []
  }
 ],
 "metadata": {
  "kernelspec": {
   "display_name": "Python 3 (ipykernel)",
   "language": "python",
   "name": "python3"
  },
  "language_info": {
   "codemirror_mode": {
    "name": "ipython",
    "version": 3
   },
   "file_extension": ".py",
   "mimetype": "text/x-python",
   "name": "python",
   "nbconvert_exporter": "python",
   "pygments_lexer": "ipython3",
   "version": "3.12.5"
  }
 },
 "nbformat": 4,
 "nbformat_minor": 5
}
